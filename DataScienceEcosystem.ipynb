{
 "cells": [
  {
   "cell_type": "markdown",
   "id": "5d3df32c-f6fe-4409-b98a-e934f3293c8d",
   "metadata": {},
   "source": [
    "<h1>Data Science Tools and Ecosystem"
   ]
  },
  {
   "cell_type": "markdown",
   "id": "55560b1d-9aae-4bdb-a8c7-ea04b5bbbd35",
   "metadata": {},
   "source": [
    "In this notebook, Data Science Tools and Ecosystem are summarized."
   ]
  },
  {
   "cell_type": "markdown",
   "id": "43ecc98d-7169-4293-9d23-fddff230a3f3",
   "metadata": {},
   "source": [
    "__Objectives:__\n",
    "\n",
    "* Popular languages for data science \n",
    "* Popular Open source and commercial tools for data science\n",
    "* Introduction to common data science open source tools such as RStudio, Jupyter Lab, and Github\n",
    "* Common Libraries used for data science\n",
    "\n"
   ]
  },
  {
   "cell_type": "markdown",
   "id": "1d5a4a3e-65a2-4723-856c-8a65a90fb6ad",
   "metadata": {},
   "source": [
    "Some of the popular languages that Data Scientists use are:\n",
    "1. Python\n",
    "2. R\n",
    "3. SQL\n",
    "4. Java\n",
    "5. Scala\n",
    "6. Julia\n",
    "7. C++\n",
    "8. Javascript "
   ]
  },
  {
   "cell_type": "markdown",
   "id": "b2cdc8dd-3a32-484f-a4f3-389662914755",
   "metadata": {},
   "source": [
    "Some of the commonly used libraries used by Data Scientists include:\n",
    "\n",
    "1. Matplotlib\n",
    "2. TensorFlow \n",
    "3. Pandas\n",
    "4. Sci-Kit Learn \n",
    "5. PyTorch "
   ]
  },
  {
   "cell_type": "markdown",
   "id": "9598add4-d95d-4c8e-9770-455c10baa704",
   "metadata": {},
   "source": [
    "|Data Science Tools|\n",
    "-------------------\n",
    "|Jupyter|\n",
    "|R Studio|\n",
    "|Apache Spark|\n",
    "|Tensor Flow|"
   ]
  },
  {
   "cell_type": "markdown",
   "id": "12ccc567-e319-4e65-a870-fb0f9f4d3a67",
   "metadata": {},
   "source": [
    "<h3> Below are a few examples of evaluating arithmetic expressions in Python"
   ]
  },
  {
   "cell_type": "code",
   "execution_count": 1,
   "id": "dc8c1ce8-5d88-489f-b802-331901912289",
   "metadata": {},
   "outputs": [
    {
     "data": {
      "text/plain": [
       "17"
      ]
     },
     "execution_count": 1,
     "metadata": {},
     "output_type": "execute_result"
    }
   ],
   "source": [
    "#This a simple arithmetic expression to mutiply then add integers\n",
    "\n",
    "(3*4)+5"
   ]
  },
  {
   "cell_type": "code",
   "execution_count": 2,
   "id": "29318417-aae8-4bb0-ab5c-157594989aea",
   "metadata": {},
   "outputs": [
    {
     "data": {
      "text/plain": [
       "3.3333333333333335"
      ]
     },
     "execution_count": 2,
     "metadata": {},
     "output_type": "execute_result"
    }
   ],
   "source": [
    "#This will convert 200 minutes to hours by diving by 60\n",
    "\n",
    "200/60"
   ]
  },
  {
   "cell_type": "markdown",
   "id": "5075b029-3397-438d-a007-d2a32ad27e60",
   "metadata": {},
   "source": [
    "<h2> Author"
   ]
  },
  {
   "cell_type": "markdown",
   "id": "3d030cef-3c89-449a-a20d-4da8550abc04",
   "metadata": {},
   "source": [
    "Aryan Familrouhani"
   ]
  },
  {
   "cell_type": "code",
   "execution_count": null,
   "id": "4712bcc0-1b8c-47bc-8ef7-7c6132b5d376",
   "metadata": {},
   "outputs": [],
   "source": []
  }
 ],
 "metadata": {
  "kernelspec": {
   "display_name": "Python 3 (ipykernel)",
   "language": "python",
   "name": "python3"
  },
  "language_info": {
   "codemirror_mode": {
    "name": "ipython",
    "version": 3
   },
   "file_extension": ".py",
   "mimetype": "text/x-python",
   "name": "python",
   "nbconvert_exporter": "python",
   "pygments_lexer": "ipython3",
   "version": "3.10.9"
  }
 },
 "nbformat": 4,
 "nbformat_minor": 5
}
